{
 "cells": [
  {
   "cell_type": "code",
   "execution_count": 2,
   "metadata": {},
   "outputs": [
    {
     "data": {
      "text/plain": [
       "0.5198141150337765"
      ]
     },
     "execution_count": 2,
     "metadata": {},
     "output_type": "execute_result"
    }
   ],
   "source": [
    "from scipy.stats import norm\n",
    "import numpy as np\n",
    "\n",
    "# 给定的参数\n",
    "S0 = 5.35  # 当前股票价格\n",
    "K = 5.65  # 行权价格\n",
    "r = 0.054  # 无风险利率\n",
    "T = 0.75  # 到期时间，9个月\n",
    "sigma = 0.3  # 股票波动率\n",
    "\n",
    "# 计算 d1 和 d2\n",
    "d1 = (np.log(S0 / K) + (r + sigma ** 2 / 2) * T) / (sigma * np.sqrt(T))\n",
    "d2 = d1 - sigma * np.sqrt(T)\n",
    "\n",
    "# 使用Black-Scholes公式计算期权价格\n",
    "C = S0 * norm.cdf(d1) - K * np.exp(-r * T) * norm.cdf(d2)\n",
    "C\n"
   ]
  },
  {
   "cell_type": "code",
   "execution_count": 10,
   "metadata": {},
   "outputs": [
    {
     "data": {
      "text/plain": [
       "0.42805425558874416"
      ]
     },
     "execution_count": 10,
     "metadata": {},
     "output_type": "execute_result"
    }
   ],
   "source": [
    "def exotic_option_price_monte_carlo(S0, r, T, sigma, M):\n",
    "    dt = T  # 直接计算到期时的股票价格\n",
    "    a = r - 0.5 * sigma ** 2\n",
    "    option_values = np.zeros(M)\n",
    "\n",
    "    for i in range(M):\n",
    "        z = np.random.normal()  # 标准正态分布随机数\n",
    "        ST = S0 * np.exp(a * T + sigma * z * np.sqrt(T))  # 计算到期时的股票价格\n",
    "        payoff = max(8 * np.cos(ST) - 5.65, 0)  # 计算期权的回报\n",
    "        option_values[i] = payoff\n",
    "\n",
    "    # 计算期权的平均回报并折现\n",
    "    option_price = np.exp(-r * T) * np.mean(option_values)\n",
    "    return option_price\n",
    "\n",
    "# 参数\n",
    "M_large = 100000  # 较大的模拟次数\n",
    "\n",
    "# 计算外来期权的价格\n",
    "exotic_option_price = exotic_option_price_monte_carlo(S0, r, T, sigma, M_large)\n",
    "exotic_option_price\n"
   ]
  },
  {
   "cell_type": "code",
   "execution_count": 5,
   "metadata": {},
   "outputs": [
    {
     "data": {
      "text/plain": [
       "0.27824333946938884"
      ]
     },
     "execution_count": 5,
     "metadata": {},
     "output_type": "execute_result"
    }
   ],
   "source": [
    "# 参数设定\n",
    "S0 = 5.35  # 当前股票价格\n",
    "K = 5.65   # 行权价格\n",
    "r = 0.054  # 无风险利率\n",
    "T = 1      # 到期时间，1年\n",
    "sigma = 0.3  # 股票波动率\n",
    "\n",
    "# 计算亚洲期权的特定参数\n",
    "sigma_G = sigma / np.sqrt(3)  # 调整后的波动率\n",
    "b = 0.5 * (r - sigma_G ** 2 / 2)  # 中间变量b\n",
    "d1 = (np.log(S0 / K) + (b + sigma_G ** 2 / 2) * T) / (sigma_G * np.sqrt(T))  # d1\n",
    "d2 = d1 - sigma_G * np.sqrt(T)  # d2\n",
    "\n",
    "# 使用特定的Black-Scholes公式计算亚洲期权的价格\n",
    "asian_option_price = S0 * np.exp((b - r) * T) * norm.cdf(d1) - K * np.exp(-r * T) * norm.cdf(d2)\n",
    "asian_option_price\n"
   ]
  },
  {
   "cell_type": "code",
   "execution_count": 9,
   "metadata": {},
   "outputs": [
    {
     "data": {
      "text/plain": [
       "(0.17320508075688773, 0.0195, -0.11581059956658811, -0.28901568032347585)"
      ]
     },
     "execution_count": 9,
     "metadata": {},
     "output_type": "execute_result"
    }
   ],
   "source": [
    "sigma_G,b,d1,d2"
   ]
  },
  {
   "cell_type": "code",
   "execution_count": 14,
   "metadata": {},
   "outputs": [
    {
     "data": {
      "text/plain": [
       "{'10^3': 0.29514153180208147,\n",
       " '10^4': 0.2844820290295809,\n",
       " '10^5': 0.281441776904544,\n",
       " '10^6': 0.2813120866602236,\n",
       " '10^7': 0.281438652105844}"
      ]
     },
     "execution_count": 14,
     "metadata": {},
     "output_type": "execute_result"
    }
   ],
   "source": [
    "def asian_call_option_monte_carlo(S0, K, r, T, sigma, M, n):\n",
    "    dt = T / n  # 小周期长度\n",
    "    call_values = np.zeros(M)  # 存储每次模拟的期权价值\n",
    "\n",
    "    for i in range(M):\n",
    "        log_sum = 0  # 存储 log(S_t) 的和\n",
    "        S = S0\n",
    "\n",
    "        # 模拟股票价格并计算 log(S_t) 的和\n",
    "        for _ in range(n):\n",
    "            S *= np.exp((r - 0.5 * sigma ** 2) * dt + sigma * np.random.normal() * np.sqrt(dt))\n",
    "            log_sum += np.log(S)\n",
    "\n",
    "        # 计算几何平均价格\n",
    "        A_T = np.exp(log_sum / n)\n",
    "\n",
    "        # 计算期权价值\n",
    "        call_values[i] = max(A_T - K, 0)\n",
    "\n",
    "    # 计算期权的平均收益并折现\n",
    "    call_price = np.exp(-r * T) * np.mean(call_values)\n",
    "    return call_price\n",
    "\n",
    "# 参数设定\n",
    "ks = [3, 4, 5, 6, 7]  # 由于计算量大，首先计算 k=3 和 k=4 的情况\n",
    "asian_option_prices_mc = {f'10^{k}': asian_call_option_monte_carlo_efficient(S0, K, r, T, sigma, 10**k, 100) for k in ks}\n",
    "asian_option_prices_mc\n"
   ]
  },
  {
   "cell_type": "code",
   "execution_count": 12,
   "metadata": {},
   "outputs": [
    {
     "data": {
      "text/plain": [
       "0.2931072073020639"
      ]
     },
     "execution_count": 12,
     "metadata": {},
     "output_type": "execute_result"
    }
   ],
   "source": [
    "def asian_call_option_monte_carlo_efficient(S0, K, r, T, sigma, M, n):\n",
    "    dt = T / n  # 小周期长度\n",
    "    t = np.linspace(dt, T, n)  # 时间点\n",
    "\n",
    "    # 生成所有路径的随机扰动\n",
    "    Z = np.random.normal(0, np.sqrt(dt), (n, M))\n",
    "\n",
    "    # 计算每个时间点的股票价格\n",
    "    S = S0 * np.exp(np.cumsum((r - 0.5 * sigma ** 2) * dt + sigma * Z, axis=0))\n",
    "\n",
    "    # 计算几何平均价格\n",
    "    A_T = np.exp(np.mean(np.log(S), axis=0))\n",
    "\n",
    "    # 计算期权的收益\n",
    "    call_values = np.maximum(A_T - K, 0)\n",
    "\n",
    "    # 计算期权的平均收益并折现\n",
    "    call_price = np.exp(-r * T) * np.mean(call_values)\n",
    "    return call_price\n",
    "\n",
    "# 参数设定\n",
    "M_small = 10**3  # 较小的模拟次数\n",
    "asian_option_price_mc_efficient = asian_call_option_monte_carlo_efficient(S0, K, r, T, sigma, M_small, 100)\n",
    "asian_option_price_mc_efficient\n"
   ]
  }
 ],
 "metadata": {
  "kernelspec": {
   "display_name": "sde",
   "language": "python",
   "name": "python3"
  },
  "language_info": {
   "codemirror_mode": {
    "name": "ipython",
    "version": 3
   },
   "file_extension": ".py",
   "mimetype": "text/x-python",
   "name": "python",
   "nbconvert_exporter": "python",
   "pygments_lexer": "ipython3",
   "version": "3.10.13"
  }
 },
 "nbformat": 4,
 "nbformat_minor": 2
}

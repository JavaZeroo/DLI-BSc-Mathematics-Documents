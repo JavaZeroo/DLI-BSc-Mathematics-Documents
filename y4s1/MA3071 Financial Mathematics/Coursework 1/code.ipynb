{
 "cells": [
  {
   "cell_type": "code",
   "execution_count": 2,
   "metadata": {},
   "outputs": [
    {
     "data": {
      "text/plain": [
       "(0.0043923222705009035, [True, True, True, True])"
      ]
     },
     "execution_count": 2,
     "metadata": {},
     "output_type": "execute_result"
    }
   ],
   "source": [
    "# Given annual interest rate\n",
    "annual_interest_rate = 0.054  # 5.4%\n",
    "\n",
    "# Calculate the monthly interest rate\n",
    "monthly_interest_rate = (1 + annual_interest_rate)**(1/12) - 1\n",
    "\n",
    "# Given up and down factors for different time periods\n",
    "ud_pairs = [\n",
    "    (1.02, 0.98),\n",
    "    (1.006, 0.985),\n",
    "    (1.025, 0.975),\n",
    "    (1.013, 0.987)\n",
    "]\n",
    "\n",
    "# Check the no-arbitrage condition for each pair\n",
    "no_arbitrage_conditions = [(d < 1 + monthly_interest_rate < u) for u, d in ud_pairs]\n",
    "\n",
    "monthly_interest_rate, no_arbitrage_conditions\n"
   ]
  },
  {
   "cell_type": "code",
   "execution_count": 3,
   "metadata": {},
   "outputs": [
    {
     "data": {
      "text/plain": [
       "[(0.6098080567625225, 0.3901919432374775),\n",
       " (0.9234439176429, 0.07655608235709999),\n",
       " (0.5878464454100193, 0.4121535545899807),\n",
       " (0.6689354719423452, 0.33106452805765485)]"
      ]
     },
     "execution_count": 3,
     "metadata": {},
     "output_type": "execute_result"
    }
   ],
   "source": [
    "# Calculate q-probabilities for each pair of (u, d)\n",
    "q_probabilities = [(1 + monthly_interest_rate - d) / (u - d) for u, d in ud_pairs]\n",
    "q_probabilities = [(q_u, 1 - q_u) for q_u in q_probabilities]\n",
    "\n",
    "q_probabilities\n"
   ]
  },
  {
   "cell_type": "code",
   "execution_count": 7,
   "metadata": {},
   "outputs": [
    {
     "name": "stdout",
     "output_type": "stream",
     "text": [
      "1\n",
      "2\n",
      "4\n",
      "8\n",
      "16\n",
      "32\n",
      "64\n",
      "128\n",
      "256\n",
      "512\n",
      "1024\n",
      "2048\n",
      "4096\n",
      "8192\n",
      "16384\n",
      "32768\n",
      "65536\n",
      "131072\n",
      "262144\n",
      "524288\n"
     ]
    },
    {
     "data": {
      "text/plain": [
       "([7.2510625720866315,\n",
       "  6.897352202716552,\n",
       "  7.099698442848242,\n",
       "  6.7533716895385725,\n",
       "  6.966707177102842],\n",
       " [1.6010625720866312,\n",
       "  1.2473522027165513,\n",
       "  1.4496984428482413,\n",
       "  1.1033716895385721,\n",
       "  1.3167071771028418])"
      ]
     },
     "execution_count": 7,
     "metadata": {},
     "output_type": "execute_result"
    }
   ],
   "source": [
    "from collections import deque\n",
    "\n",
    "# Given initial stock price and strike price\n",
    "S0 = 5.35\n",
    "K = 5.65\n",
    "n_periods = 20\n",
    "\n",
    "# Initialize the binary tree with the root being the initial stock price\n",
    "binomial_tree = deque([(S0, 1)])  # (stock price, period)\n",
    "\n",
    "# Store the final stock prices to calculate the call option payoff\n",
    "final_stock_prices = []\n",
    "\n",
    "# Helper function to calculate call option payoff\n",
    "def call_option_payoff(S, K):\n",
    "    return max(S - K, 0)\n",
    "\n",
    "# Populate the binomial tree\n",
    "for period in range(1, n_periods + 1):\n",
    "    # Determine which (u, d) and (q_u, q_d) to use based on the period\n",
    "    if period % 4 == 1:\n",
    "        u, d = ud_pairs[0]\n",
    "        q_u, q_d = q_probabilities[0]\n",
    "    elif period % 4 == 2:\n",
    "        u, d = ud_pairs[1]\n",
    "        q_u, q_d = q_probabilities[1]\n",
    "    elif period % 4 == 3:\n",
    "        u, d = ud_pairs[2]\n",
    "        q_u, q_d = q_probabilities[2]\n",
    "    else:\n",
    "        u, d = ud_pairs[3]\n",
    "        q_u, q_d = q_probabilities[3]\n",
    "    \n",
    "    # Number of nodes at the current level\n",
    "    num_nodes = len(binomial_tree)\n",
    "    print(num_nodes)\n",
    "    # Iterate through each node to generate the next level\n",
    "    for _ in range(num_nodes):\n",
    "        S, curr_period = binomial_tree.popleft()\n",
    "        \n",
    "        # Generate next level stock prices\n",
    "        Su = S * u\n",
    "        Sd = S * d\n",
    "        \n",
    "        # Append to the queue for next iteration\n",
    "        binomial_tree.append((Su, curr_period + 1))\n",
    "        binomial_tree.append((Sd, curr_period + 1))\n",
    "        \n",
    "        # If we reach the final period, store the final stock prices for option payoff calculation\n",
    "        if curr_period == n_periods:\n",
    "            final_stock_prices.append(S)\n",
    "\n",
    "# Calculate the call option payoff for each final stock price\n",
    "final_option_payoffs = [call_option_payoff(S, K) for S in final_stock_prices]\n",
    "\n",
    "# Show some of the final stock prices and option payoffs for verification\n",
    "final_stock_prices[:5], final_option_payoffs[:5]\n"
   ]
  },
  {
   "cell_type": "code",
   "execution_count": 13,
   "metadata": {},
   "outputs": [
    {
     "data": {
      "text/plain": [
       "0.2640960660966482"
      ]
     },
     "execution_count": 13,
     "metadata": {},
     "output_type": "execute_result"
    }
   ],
   "source": [
    "# # Reinitialize the parameters and helper functions to rerun the Python code for rechecking\n",
    "\n",
    "# # Given parameters\n",
    "# annual_interest_rate = 0.054  # Annual interest rate of 5.4%\n",
    "# S0 = 5.35  # Initial stock price\n",
    "# K = 5.65  # Strike price of the European call option\n",
    "# n_periods = 20  # Number of periods in the binomial tree\n",
    "\n",
    "# # Calculate the monthly interest rate\n",
    "# monthly_interest_rate = (1 + annual_interest_rate)**(1/12) - 1\n",
    "\n",
    "# # Up and down factors (u, d) for different time periods\n",
    "# ud_pairs = [\n",
    "#     [1.02, 0.98],\n",
    "#     [1.006, 0.985],\n",
    "#     [1.025, 0.975],\n",
    "#     [1.013, 0.987]\n",
    "# ]\n",
    "\n",
    "# # Calculate q-probabilities for each (u, d) pair\n",
    "# q_probabilities = []\n",
    "# for u, d in ud_pairs:\n",
    "#     q_u = (1 + monthly_interest_rate - d) / (u - d)\n",
    "#     q_d = 1 - q_u\n",
    "#     q_probabilities.append([q_u, q_d])\n",
    "\n",
    "# # Helper function to calculate the payoff of a European call option\n",
    "# def call_option_payoff(S, K):\n",
    "#     return max(S - K, 0)\n",
    "\n",
    "# # Initialize a dictionary to store the option price at each node in the binomial tree\n",
    "# option_prices_py = {}\n",
    "\n",
    "# # Recursive function to calculate the option price at a given node\n",
    "# def calculate_option_price_py(S, period):\n",
    "#     if S in option_prices_py:\n",
    "#         return option_prices_py[S]\n",
    "    \n",
    "#     if period > n_periods:\n",
    "#         return max(S - K, 0)  # Option payoff at maturity\n",
    "#     else:\n",
    "#         # Determine which (u, d) and (q_u, q_d) to use based on the period\n",
    "#         idx = (period - 1) % 4\n",
    "#         u, d = ud_pairs[idx]\n",
    "#         q_u, q_d = q_probabilities[idx]\n",
    "\n",
    "#         # Calculate the stock prices at the up and down nodes\n",
    "#         Su = S * u\n",
    "#         Sd = S * d\n",
    "\n",
    "#         # Recursive calculation of the option prices at the up and down nodes\n",
    "#         Cu = calculate_option_price_py(Su, period + 1)\n",
    "#         Cd = calculate_option_price_py(Sd, period + 1)\n",
    "\n",
    "#         # Calculate the option price at the current node using risk-neutral pricing\n",
    "#         price = ((q_u * Cu) + (q_d * Cd)) / (1 + monthly_interest_rate)\n",
    "        \n",
    "#         # Cache the option price for future use\n",
    "#         option_prices_py[S] = price\n",
    "        \n",
    "#         return price\n",
    "\n",
    "# # Calculate the option price at the root node (time 0)\n",
    "# V0_recheck = calculate_option_price_py(S0, 1)\n",
    "# V0_recheck\n"
   ]
  },
  {
   "cell_type": "markdown",
   "metadata": {},
   "source": [
    "# new"
   ]
  },
  {
   "cell_type": "code",
   "execution_count": 4,
   "metadata": {},
   "outputs": [
    {
     "name": "stdout",
     "output_type": "stream",
     "text": [
      "524288\n"
     ]
    },
    {
     "data": {
      "text/plain": [
       "0.8216198105440476"
      ]
     },
     "execution_count": 4,
     "metadata": {},
     "output_type": "execute_result"
    }
   ],
   "source": [
    "from math import comb\n",
    "ud_pairs = [\n",
    "    [1.02, 0.98],\n",
    "    [1.006, 0.985],\n",
    "    [1.025, 0.975],\n",
    "    [1.013, 0.987]\n",
    "]\n",
    "\n",
    "def call_option_payoff(S, K):\n",
    "    return max(S - K, 0)\n",
    "# # Given parameters\n",
    "annual_interest_rate = 0.054  # Annual interest rate of 5.4%\n",
    "S0 = 5.35  # Initial stock price\n",
    "K = 5.65  # Strike price of the European call option\n",
    "n_periods = 20  # Number of periods in the binomial tree\n",
    "# Initialize a list to store the stock prices at each terminal node\n",
    "terminal_stock_prices = []\n",
    "\n",
    "monthly_interest_rate = (1 + annual_interest_rate)**(1/12) - 1\n",
    "q_probabilities = [(1 + monthly_interest_rate - d) / (u - d) for u, d in ud_pairs]\n",
    "q_probabilities = [(q_u, 1 - q_u) for q_u in q_probabilities]\n",
    "\n",
    "# Helper function to generate the terminal stock prices in a binomial tree\n",
    "def generate_terminal_stock_prices(S, period):\n",
    "    if period == n_periods:\n",
    "        terminal_stock_prices.append(S)\n",
    "        return\n",
    "    else:\n",
    "        # Determine which (u, d) to use based on the period\n",
    "        index = (period - 1) % 4\n",
    "        u, d = ud_pairs[index]\n",
    "        \n",
    "        # Generate the stock prices for the up and down movements\n",
    "        generate_terminal_stock_prices(S * u, period + 1)\n",
    "        generate_terminal_stock_prices(S * d, period + 1)\n",
    "\n",
    "# Generate the terminal stock prices\n",
    "generate_terminal_stock_prices(S0, 1)\n",
    "\n",
    "# Calculate the terminal option prices and their probabilities\n",
    "terminal_option_prices = [call_option_payoff(S, K) for S in terminal_stock_prices]\n",
    "print(len(terminal_stock_prices))\n",
    "# Initialize the option price at time 0\n",
    "V0_fixed = 0\n",
    "\n",
    "# Calculate the option price at time 0 using the terminal option prices and probabilities\n",
    "for j in range(n_periods + 1):\n",
    "    # Calculate the number of combinations (n choose j)\n",
    "    num_combinations = comb(n_periods, j)\n",
    "    \n",
    "    # Determine which (q_u, q_d) to use based on j\n",
    "    index = j % 4\n",
    "    q_u, q_d = q_probabilities[index]\n",
    "    \n",
    "    # Calculate the probability of this specific path\n",
    "    path_probability = (q_u ** j) * (q_d ** (n_periods - j))\n",
    "    \n",
    "    # Add to the option price at time 0\n",
    "    V0_fixed += num_combinations * path_probability * terminal_option_prices[j]\n",
    "\n",
    "# Discount the option price back to time 0\n",
    "V0_fixed = V0_fixed / ((1 + monthly_interest_rate) ** n_periods)\n",
    "V0_fixed\n"
   ]
  },
  {
   "cell_type": "code",
   "execution_count": 8,
   "metadata": {},
   "outputs": [
    {
     "data": {
      "text/plain": [
       "0.21681470307832845"
      ]
     },
     "execution_count": 8,
     "metadata": {},
     "output_type": "execute_result"
    }
   ],
   "source": [
    "\n",
    "V0 = 0\n",
    "for j in range(n_periods+1):\n",
    "    u, d = ud_pairs[j%4]\n",
    "    q_u, q_d = q_probabilities[j%4]\n",
    "    V0 += call_option_payoff(S0*(u**j)*(d**(n_periods-j)), K)*comb(n_periods, j)*(q_u**j)*(q_d**(n_periods-j))\n",
    "V0 = V0/((1+monthly_interest_rate)**n_periods)\n",
    "V0"
   ]
  },
  {
   "cell_type": "code",
   "execution_count": null,
   "metadata": {},
   "outputs": [],
   "source": []
  }
 ],
 "metadata": {
  "kernelspec": {
   "display_name": "ai",
   "language": "python",
   "name": "python3"
  },
  "language_info": {
   "codemirror_mode": {
    "name": "ipython",
    "version": 3
   },
   "file_extension": ".py",
   "mimetype": "text/x-python",
   "name": "python",
   "nbconvert_exporter": "python",
   "pygments_lexer": "ipython3",
   "version": "3.10.12"
  }
 },
 "nbformat": 4,
 "nbformat_minor": 2
}
